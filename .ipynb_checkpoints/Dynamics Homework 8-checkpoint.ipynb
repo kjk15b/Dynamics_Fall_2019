{
 "cells": [
  {
   "cell_type": "code",
   "execution_count": 3,
   "metadata": {},
   "outputs": [],
   "source": [
    "from sympy import *\n",
    "from sympy.vector import CoordSys3D\n",
    "N = CoordSys3D('N')"
   ]
  },
  {
   "cell_type": "markdown",
   "metadata": {},
   "source": [
    "# Problem 16.10"
   ]
  },
  {
   "cell_type": "markdown",
   "metadata": {},
   "source": [
    "At the instant $\\omega_{A} = 5 \\frac{rad}{s}$, pulley A is given an angular acceleration $\\alpha_{A} = 6 \\frac{rad}{s^2}$. Determine the magnitude of acceleration on pulley C when A rotates 2 revolutions. Pulley C has an inner hub which is fixed to its outer one and turns with it."
   ]
  },
  {
   "cell_type": "code",
   "execution_count": 7,
   "metadata": {},
   "outputs": [],
   "source": [
    "alpha = 6 * N.k # [rad/s^2]\n",
    "omega = 5 # [rad/s]\n",
    "r = sqrt(2)/2 * N.i - sqrt(2)/2 * N.j\n",
    "radius = 60 / 1000\n",
    "r = r * radius"
   ]
  },
  {
   "cell_type": "code",
   "execution_count": 12,
   "metadata": {},
   "outputs": [
    {
     "name": "stdout",
     "output_type": "stream",
     "text": [
      "Acceleration Vector:\t(-0.57*sqrt(2))*N.i + (0.93*sqrt(2))*N.j [m/s]\n"
     ]
    }
   ],
   "source": [
    "accel = alpha.cross(r) - omega**2 * r\n",
    "print(\"Acceleration Vector:\\t{} [m/s^2]\".format(accel))"
   ]
  },
  {
   "cell_type": "markdown",
   "metadata": {},
   "source": [
    "Here is our general acceleration"
   ]
  },
  {
   "cell_type": "code",
   "execution_count": 14,
   "metadata": {},
   "outputs": [
    {
     "name": "stdout",
     "output_type": "stream",
     "text": [
      "Acceleration Magnitude:\t1.54259521586189 [m/s^2]\n"
     ]
    }
   ],
   "source": [
    "print(\"Acceleration Magnitude:\\t{} [m/s^2]\".format(accel.magnitude()))"
   ]
  },
  {
   "cell_type": "markdown",
   "metadata": {},
   "source": [
    "# Problem F16.7"
   ]
  },
  {
   "cell_type": "markdown",
   "metadata": {},
   "source": [
    "If roller A moves to the right with a constant velocity of $v_{A} = 3 \\frac{m}{s}$, determine the angular velocity of the link and the velocity of the roller B at the instant $\\theta = \\frac{\\pi}{6}$."
   ]
  },
  {
   "cell_type": "markdown",
   "metadata": {},
   "source": [
    "We can find our angular velocity using $$\\omega = \\frac{vsin\\theta}{r}$$"
   ]
  },
  {
   "cell_type": "code",
   "execution_count": 16,
   "metadata": {},
   "outputs": [
    {
     "name": "stdout",
     "output_type": "stream",
     "text": [
      "Angular Velocity:\t1.00000000000000 [rad/s]\n"
     ]
    }
   ],
   "source": [
    "velocity = 3 # [m/s]\n",
    "r = 1.5 # [m]\n",
    "theta = pi/6 # [radians]\n",
    "\n",
    "omega = velocity * sin(theta) / r\n",
    "print(\"Angular Velocity:\\t{} [rad/s]\".format(omega))"
   ]
  },
  {
   "cell_type": "markdown",
   "metadata": {},
   "source": [
    "The angular velocity here is about 1, given if you actually step through the math here. To clarify this is rotating in the clockwise direction. If we were to analyze the speed of the point B, it needs to be symmetric to what is happening at A otherwise our equations do not work. That would leave us with the velocity at B being equivalent to A.\n",
    "\n",
    "\n",
    "$$v_{A} = v_{B} = 3 \\frac{m}{s}$$\n",
    "$$\\omega \\approx 1 \\frac{rad}{s}$$"
   ]
  },
  {
   "cell_type": "markdown",
   "metadata": {},
   "source": [
    "# Problem 16-9"
   ]
  },
  {
   "cell_type": "markdown",
   "metadata": {},
   "source": [
    "Determine the angular velocity of the spool. The cable wraps around the inner core, and the spool does not slip on the platform P. "
   ]
  },
  {
   "cell_type": "markdown",
   "metadata": {},
   "source": [
    "We start out with our fundamental velocity equation: $$v_{B} = v_{A} + \\omega\\times r_{\\frac{A}{B}}$$\n",
    "\n",
    "Which we can express our cross product in terms of: $$\\omega\\times r_{\\frac{A}{B}} = ||\\omega|| ||r_{\\frac{A}{B}}|| sin(\\theta)$$\n",
    "\n",
    "This gives us: \n",
    "$$v_{B} = v_{A} + ||\\omega|| ||r_{\\frac{A}{B}}|| sin(\\theta)$$\n",
    "\n",
    "and we let $\\theta \\rightarrow \\frac{\\pi}{2}$ to get:\n",
    "$$v_{B} = v_{A} + \\omega r_{\\frac{A}{B}}$$\n",
    "\n",
    "with our angular velocity being: $$\\omega = \\frac{v_{B} - v_{A}}{r_{\\frac{A}{B}}} $$"
   ]
  },
  {
   "cell_type": "code",
   "execution_count": 22,
   "metadata": {},
   "outputs": [
    {
     "name": "stdout",
     "output_type": "stream",
     "text": [
      "Angular Velocity:\t2 [rad/s]\n"
     ]
    }
   ],
   "source": [
    "v_r = 4 * N.i # [ft/s]\n",
    "v_l = -2 * N.i # [ft/s]\n",
    "r_ab = 1 * N.j # [ft]\n",
    "\n",
    "omega = (v_r.magnitude() - v_l.magnitude()) / r_ab.magnitude()\n",
    "print(\"Angular Velocity:\\t{} [rad/s]\".format(omega))"
   ]
  },
  {
   "cell_type": "markdown",
   "metadata": {},
   "source": [
    "We would expect to see an angular velocity of about $\\omega \\approx 2 \\frac{rad}{s}$ going counter-clockwise."
   ]
  },
  {
   "cell_type": "markdown",
   "metadata": {},
   "source": [
    "# Problem F16.21"
   ]
  },
  {
   "cell_type": "markdown",
   "metadata": {},
   "source": [
    "The gear rolls on the fixed rack $\\textit{R}$. At the instant shown, the center $\\textit{O}$ of the gear moves with a velocity of $v_{0} = 6 \\frac{m}{s}$ and acceleration of $a_{0} = 3 \\frac{m}{s^{2}}$ Determine the angular acceleration of the gear and the acceleration of the point $\\textit{A}$ at this instant."
   ]
  },
  {
   "cell_type": "markdown",
   "metadata": {},
   "source": [
    "We begin our analysis with the equation:\n",
    "$$ a_{0} = \\alpha\\times r_{\\frac{A}{O}} - \\omega^{2}r_{\\frac{A}{O}} $$\n",
    "\n",
    "We can simplify to:\n",
    "$$ a_{0} = ||\\alpha|| ||r_{\\frac{A}{O}}|| sin(\\theta) - \\omega^{2}r_{\\frac{A}{O}} $$\n",
    "\n",
    "where, again, we let $\\theta\\rightarrow\\frac{\\pi}{2}$\n",
    "\n",
    "Leaving:\n",
    "$$ a_{0} = \\alpha r_{\\frac{A}{O}} - \\omega^{2}r_{\\frac{A}{O}} $$\n",
    "\n",
    "Solving for $\\omega$ leaves:\n",
    "$$\\omega = -\\sqrt{\\frac{a_{0}-\\alpha r_{\\frac{A}{O}}}{r_{\\frac{A}{O}}}}$$\n",
    "\n",
    "We then look to our velocity equation:\n",
    "$$v_{B} = v_{A} + \\omega\\times r_{\\frac{A}{O}}$$\n",
    "\n",
    "We have a no-slip condition, so we will let $v_{A}\\rightarrow0$ leaving:\n",
    "$$v_{B} = \\omega\\times r_{\\frac{A}{O}}$$\n",
    "\n",
    "Again, we need to substitute our cross-product for:\n",
    "$$v_{B} = ||\\omega|| ||r_{\\frac{A}{O}}|| sin(\\theta)$$\n",
    "\n",
    "letting $\\theta\\rightarrow0$ we get:\n",
    "$$v_{B} = \\omega r_{\\frac{A}{O}}$$\n",
    "\n",
    "Making a substitution of $\\omega$ we get:\n",
    "$$v_{B} = -\\sqrt{\\frac{a_{0}-\\alpha r_{\\frac{A}{O}}}{r_{\\frac{A}{O}}}} r_{\\frac{A}{O}}$$\n",
    "\n",
    "Finally we end up with a solution for $\\alpha$:\n",
    "$$||\\alpha|| = -\\frac{v_{B}^{2}}{r_{\\frac{A}{O}}^{2}} + \\frac{a_{0}}{r_{\\frac{A}{O}}}$$"
   ]
  },
  {
   "cell_type": "code",
   "execution_count": 25,
   "metadata": {},
   "outputs": [
    {
     "name": "stdout",
     "output_type": "stream",
     "text": [
      "Angular Acceleration:\t-95.0 [rad/s^2]\n"
     ]
    }
   ],
   "source": [
    "vb = 6 # [m/s]\n",
    "a0 = 3 # [m/s^2]\n",
    "r = 0.6 # [m]\n",
    "ang_accel = -(vb**2 / r**2) + (a0 / r)\n",
    "print(\"Angular Acceleration:\\t{} [rad/s^2]\".format(ang_accel))"
   ]
  },
  {
   "cell_type": "markdown",
   "metadata": {},
   "source": [
    "This angular acceleration seems to be a little bit too big here. Unit-wise everything works out, I need to look back through my algebra to find out what I did wrong."
   ]
  },
  {
   "cell_type": "markdown",
   "metadata": {},
   "source": [
    "# Problem F16.22"
   ]
  },
  {
   "cell_type": "markdown",
   "metadata": {},
   "source": [
    "At the instant shown, cable $\\textit{AB}$ has a velocity of $3 \\frac{m}{s}$ and an acceleration of $1.5 \\frac{m}{s^{2}}$, while the gear rack has a velocity of $1.5 \\frac{m}{s}$ and acceleration of $0.75 \\frac{m}{s^{2}}$. Determine the angular acceleration of the gear at this instant."
   ]
  },
  {
   "cell_type": "markdown",
   "metadata": {},
   "source": [
    "We want to start our analysis with our fundamental equation: $$a_{B} = a_{A} + \\alpha\\times r_{\\frac{B}{A}} - \\omega^{2} r_{\\frac{B}{A}}$$\n",
    "\n",
    "We want to link this equation to our fundamental velocity equation:\n",
    "$$v_{B} = v_{A} + \\omega\\times r_{\\frac{B}{A}}$$\n",
    "\n",
    "Solving the first equation for $\\omega$ yields:\n",
    "$$||\\omega|| = \\sqrt{\\frac{a_{A} + \\alpha r_{\\frac{B}{A}} - a_{B}}{r_{\\frac{B}{A}}}}$$\n",
    "\n",
    "We can then substitute this into our second equation and solve for $\\alpha$ this yields:\n",
    "$$\\alpha = \\frac{1}{r_{\\frac{B}{A}}^{2}}[v_{B}^{2} -2v_{B}v_{A} + v_{A}^{2}] - \\frac{a_{A}}{r_{\\frac{B}{A}}} + \\frac{a_{B}}{r_{\\frac{B}{A}}}$$"
   ]
  },
  {
   "cell_type": "code",
   "execution_count": 27,
   "metadata": {},
   "outputs": [
    {
     "name": "stdout",
     "output_type": "stream",
     "text": [
      "Angular Acceleration:\t494.99999999999994 [rad/s^2]\n"
     ]
    }
   ],
   "source": [
    "aa = 1.5 # [m/s^2]\n",
    "va = 3 # [m/s]\n",
    "ab = -0.75 # [m/s^2]\n",
    "vb = -1.5 # [m/s]\n",
    "r = 0.2 # [m]\n",
    "\n",
    "ang_accel = (1/r**2) * (va**2 - 2 * va * vb + vb**2) - (aa / r) + (ab / r)\n",
    "print(\"Angular Acceleration:\\t{} [rad/s^2]\".format(ang_accel))"
   ]
  },
  {
   "cell_type": "markdown",
   "metadata": {},
   "source": [
    "Yeah, this just seems like way too high of an angular acceleration here. I feel like I am obviously not approaching these problems properly."
   ]
  }
 ],
 "metadata": {
  "kernelspec": {
   "display_name": "Python 3",
   "language": "python",
   "name": "python3"
  },
  "language_info": {
   "codemirror_mode": {
    "name": "ipython",
    "version": 3
   },
   "file_extension": ".py",
   "mimetype": "text/x-python",
   "name": "python",
   "nbconvert_exporter": "python",
   "pygments_lexer": "ipython3",
   "version": "3.7.3"
  }
 },
 "nbformat": 4,
 "nbformat_minor": 2
}
