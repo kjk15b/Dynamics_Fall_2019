{
 "cells": [
  {
   "cell_type": "markdown",
   "metadata": {},
   "source": [
    "# Dynamics, In Class Work [ENGR 222.01]"
   ]
  },
  {
   "cell_type": "markdown",
   "metadata": {},
   "source": [
    "Determine the angular acceleration, $\\alpha$, of a wheel if it is being pulled with a force $P = 100N$. The inner radius of the wheel is $\\frac{3}{4} m$ and the outer radius is $1 m$. The coefficient of gyration is $k_{g} = \\frac{3}{5}$. The mass of the wheel is $15 kg$.\n",
    "\n",
    "We can define our moment of inertia through the equation: $$I = mk_{d}^{2}$$\n",
    "\n",
    "Along the same lines, we can determine our moment due to the force $P$ with: $$M_{P} = F_{P}r$$\n",
    "\n",
    "Where we let $r\\rightarrow\\frac{3}{4}m$.\n",
    "\n",
    "Finally we can substitute both of these values into the equation:$$M_{P} = I\\alpha$$\n",
    "\n",
    "Solving for $\\alpha$ yields: $$\\alpha=\\frac{F_{P}r}{mk_{d}^{2}}$$"
   ]
  },
  {
   "cell_type": "code",
   "execution_count": 1,
   "metadata": {},
   "outputs": [
    {
     "name": "stdout",
     "output_type": "stream",
     "text": [
      "Angular Acceleration:\t13.888888888888891 [rad/s^2]\n"
     ]
    }
   ],
   "source": [
    "ang_accel = (100 * .75) / (15 * pow(.6, 2))\n",
    "print(\"Angular Acceleration:\\t{} [rad/s^2]\".format(ang_accel))"
   ]
  },
  {
   "cell_type": "markdown",
   "metadata": {},
   "source": [
    "Our final calculation sees that the expected angular acceleration is $$\\alpha\\approx13.89\\frac{rad}{s^{2}}$$"
   ]
  }
 ],
 "metadata": {
  "kernelspec": {
   "display_name": "Python 3",
   "language": "python",
   "name": "python3"
  },
  "language_info": {
   "codemirror_mode": {
    "name": "ipython",
    "version": 3
   },
   "file_extension": ".py",
   "mimetype": "text/x-python",
   "name": "python",
   "nbconvert_exporter": "python",
   "pygments_lexer": "ipython3",
   "version": "3.7.3"
  }
 },
 "nbformat": 4,
 "nbformat_minor": 2
}
