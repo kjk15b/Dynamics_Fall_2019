{
 "cells": [
  {
   "cell_type": "markdown",
   "metadata": {},
   "source": [
    "# Programming Homework 5"
   ]
  },
  {
   "cell_type": "markdown",
   "metadata": {},
   "source": [
    "Determine the velocities and energies of two objects as a function of the coefficient of restitution. Let mass A be 10 [kg] and mass B be 20 [kg]. Initially, object A has a velocity of 1 [m/s], object B is at rest."
   ]
  },
  {
   "cell_type": "code",
   "execution_count": 1,
   "metadata": {},
   "outputs": [],
   "source": [
    "from sympy import * # this should be the only package we need for this assignment"
   ]
  },
  {
   "cell_type": "code",
   "execution_count": 18,
   "metadata": {},
   "outputs": [
    {
     "name": "stdout",
     "output_type": "stream",
     "text": [
      "     -va₂ + vb₂\n",
      "-e + ──────────\n",
      "     va₁ - vb₁ \n"
     ]
    }
   ],
   "source": [
    "e, vb2, vb1, va1, va2 = symbols(\"e vb2 vb1 va1 va2\", real=True)\n",
    "\n",
    "eqn = -e + ((vb2 - va2) / (va1 - vb1))\n",
    "pprint(eqn)"
   ]
  },
  {
   "cell_type": "markdown",
   "metadata": {},
   "source": [
    "Here we have our standard equation for the coefficient of restitution that we will use for our modeling later on.\n",
    "\n",
    "We have to initially consider this using only conservation of momentum as e goes from 0->1, so there is a case where energy is \"not conserved\" with our basic equations. \n",
    "\n",
    "Our solution to this is to analyze the momenta:\n",
    "\n",
    "m_a*v_a1 = m_a*v_a2 + m_b*v_b2\n",
    "\n",
    "Solving for v_b2 we get:\n",
    "\n",
    "v_b2 = (m_a/m_b)*(v_a1-v_a2)"
   ]
  },
  {
   "cell_type": "code",
   "execution_count": 13,
   "metadata": {},
   "outputs": [
    {
     "name": "stdout",
     "output_type": "stream",
     "text": [
      "ma⋅(va₁ - va₂)\n",
      "──────────────\n",
      "      mb      \n"
     ]
    }
   ],
   "source": [
    "ma, mb = symbols(\"ma mb\", real=True)\n",
    "\n",
    "v_b2 = (ma/mb) * (va1 - va2) # redefine our velocities\n",
    "pprint(v_b2)"
   ]
  },
  {
   "cell_type": "markdown",
   "metadata": {},
   "source": [
    "Now we can plug this back into our equation from above to substitute for vb2"
   ]
  },
  {
   "cell_type": "code",
   "execution_count": 19,
   "metadata": {},
   "outputs": [
    {
     "name": "stdout",
     "output_type": "stream",
     "text": [
      "     ma⋅(va₁ - va₂)      \n",
      "     ────────────── - va₂\n",
      "           mb            \n",
      "-e + ────────────────────\n",
      "          va₁ - vb₁      \n"
     ]
    }
   ],
   "source": [
    "eqn = eqn.subs(vb2, v_b2)\n",
    "pprint(eqn)"
   ]
  },
  {
   "cell_type": "markdown",
   "metadata": {},
   "source": [
    "Now we want to solve this equation here for va2 to get useful information from it"
   ]
  },
  {
   "cell_type": "code",
   "execution_count": 20,
   "metadata": {},
   "outputs": [
    {
     "name": "stdout",
     "output_type": "stream",
     "text": [
      "⎡-e⋅mb⋅va₁ + e⋅mb⋅vb₁ + ma⋅va₁⎤\n",
      "⎢─────────────────────────────⎥\n",
      "⎣           ma + mb           ⎦\n"
     ]
    }
   ],
   "source": [
    "soln = solve(eqn, va2)\n",
    "\n",
    "pprint(soln)"
   ]
  },
  {
   "cell_type": "markdown",
   "metadata": {},
   "source": [
    "Now we have a pretty easy equation to work with that will help us out with modeling our system."
   ]
  },
  {
   "cell_type": "code",
   "execution_count": 23,
   "metadata": {},
   "outputs": [
    {
     "name": "stdout",
     "output_type": "stream",
     "text": [
      "1   2⋅e\n",
      "─ - ───\n",
      "3    3 \n"
     ]
    }
   ],
   "source": [
    "va_eqn = soln[0] # save our equation for manipulation\n",
    "va_eqn = va_eqn.subs([(ma, 10), (mb, 20), (va1, 1), (vb1, 0)])\n",
    "\n",
    "pprint(va_eqn)"
   ]
  },
  {
   "cell_type": "markdown",
   "metadata": {},
   "source": [
    "As we can see here, the velocity of v_a2 is dependent on -2e/3, and is otherwhise constant. That being said we can see that v_a2 can be between 1/3 and -1/3 [m/s] respectively.\n",
    "\n",
    "To make life easy, let us go back now and resolve our equation for v_b2 in terms of v_a2 now. This will make plotting easier."
   ]
  },
  {
   "cell_type": "code",
   "execution_count": 25,
   "metadata": {},
   "outputs": [
    {
     "name": "stdout",
     "output_type": "stream",
     "text": [
      "e   1\n",
      "─ + ─\n",
      "3   3\n"
     ]
    }
   ],
   "source": [
    "vb_eqn = (ma/mb) * (va1 - va_eqn)\n",
    "vb_eqn = vb_eqn.subs([(ma, 10), (mb, 20), (va1, 1)])\n",
    "pprint(vb_eqn)"
   ]
  },
  {
   "cell_type": "markdown",
   "metadata": {},
   "source": [
    "Here we can see that v_b2 can go from a maximum of 2/3 to a minimum of 1/3"
   ]
  },
  {
   "cell_type": "code",
   "execution_count": 27,
   "metadata": {},
   "outputs": [],
   "source": [
    "p1 = plot(va_eqn, vb_eqn, (e, 0, 1),\n",
    "         title=\"Final Velocities of Two Objects\",\n",
    "         xlabel=\"Coefficient of Restitution [e]\",\n",
    "         ylabel=\"Velecity [m/s]\",\n",
    "         show=False)\n",
    "p1[0].line_color=\"green\"\n",
    "p1[1].line_color=\"red\""
   ]
  },
  {
   "cell_type": "markdown",
   "metadata": {},
   "source": [
    "These are just common semantics to run into for plotting in SymPy"
   ]
  },
  {
   "cell_type": "code",
   "execution_count": 28,
   "metadata": {},
   "outputs": [
    {
     "data": {
      "image/png": "[encoded data removed]",
      "text/plain": [
       "<Figure size 432x288 with 1 Axes>"
      ]
     },
     "metadata": {
      "needs_background": "light"
     },
     "output_type": "display_data"
    }
   ],
   "source": [
    "p1.show()"
   ]
  },
  {
   "cell_type": "markdown",
   "metadata": {},
   "source": [
    "Here we can see the relationship of the velocities of the two objects with respect to the coefficient of restitution. The green trend line is for v_a2 and the red line is for v_b2. This should be reasonable as what I printed earlier and discussed of our bounds for both velocities. Additionally this plot makes sense at e=0 and e=1 as both the velocites are identical in magnitude, but in the case of e=1, they are opposite in direction now.\n",
    "\n",
    "We will now make a simple model to show how the kinetic energies change for the objects after the collision."
   ]
  },
  {
   "cell_type": "code",
   "execution_count": 31,
   "metadata": {},
   "outputs": [
    {
     "name": "stdout",
     "output_type": "stream",
     "text": [
      "             2\n",
      "    ⎛1   2⋅e⎞ \n",
      "5.0⋅⎜─ - ───⎟ \n",
      "    ⎝3    3 ⎠ \n"
     ]
    }
   ],
   "source": [
    "ke_a = 0.5 * ma * va_eqn**2\n",
    "ke_a = ke_a.subs(ma, 10)\n",
    "pprint(ke_a)"
   ]
  },
  {
   "cell_type": "markdown",
   "metadata": {},
   "source": [
    "Here we have the kinetic energy equation for the object A, nothing too crazy here, again what we expected."
   ]
  },
  {
   "cell_type": "code",
   "execution_count": 32,
   "metadata": {},
   "outputs": [
    {
     "name": "stdout",
     "output_type": "stream",
     "text": [
      "            2\n",
      "     ⎛e   1⎞ \n",
      "10.0⋅⎜─ + ─⎟ \n",
      "     ⎝3   3⎠ \n"
     ]
    }
   ],
   "source": [
    "ke_b = 0.5 * mb * vb_eqn**2\n",
    "ke_b = ke_b.subs(mb, 20)\n",
    "pprint(ke_b)"
   ]
  },
  {
   "cell_type": "markdown",
   "metadata": {},
   "source": [
    "Again, now we have the two kinetic energy equations for our system. Now we can get back to plotting these."
   ]
  },
  {
   "cell_type": "code",
   "execution_count": 33,
   "metadata": {},
   "outputs": [],
   "source": [
    "p2 = plot(ke_a, ke_b, (e, 0, 1),\n",
    "         title=\"Final Kinetic Energies of Two Objects\",\n",
    "         xlabel=\"Coefficient of Restitution [e]\",\n",
    "         ylabel=\"Kinetic Energy [J]\",\n",
    "         show=False)\n",
    "p2[0].line_color=\"green\"\n",
    "p2[1].line_color=\"red\""
   ]
  },
  {
   "cell_type": "code",
   "execution_count": 34,
   "metadata": {},
   "outputs": [
    {
     "data": {
      "image/png": "[encoded data removed]",
      "text/plain": [
       "<Figure size 432x288 with 1 Axes>"
      ]
     },
     "metadata": {
      "needs_background": "light"
     },
     "output_type": "display_data"
    }
   ],
   "source": [
    "p2.show()"
   ]
  },
  {
   "cell_type": "markdown",
   "metadata": {},
   "source": [
    "This is the significantly more interesting plot here rather than the previous one we had of velocities. This is because of our coefficient of restitution, we can see that the two cases are no longer linear and we should expect this because, as previously stated, we are now losing energy in our system that could be used in the collision interaction.\n",
    "\n",
    "\n",
    "Lastly, we shall make a plot of the kinetic energy of the system, and compare it to the kinetic energy of the initial state of the system. This is to prove the point of useful energy being lost."
   ]
  },
  {
   "cell_type": "code",
   "execution_count": 35,
   "metadata": {},
   "outputs": [
    {
     "name": "stdout",
     "output_type": "stream",
     "text": [
      "             2               2\n",
      "    ⎛1   2⋅e⎞         ⎛e   1⎞ \n",
      "5.0⋅⎜─ - ───⎟  + 10.0⋅⎜─ + ─⎟ \n",
      "    ⎝3    3 ⎠         ⎝3   3⎠ \n"
     ]
    }
   ],
   "source": [
    "ke_f = ke_a + ke_b\n",
    "pprint(ke_f)"
   ]
  },
  {
   "cell_type": "markdown",
   "metadata": {},
   "source": [
    "Here is our combined final kinetic energy after the collision"
   ]
  },
  {
   "cell_type": "code",
   "execution_count": 36,
   "metadata": {},
   "outputs": [
    {
     "name": "stdout",
     "output_type": "stream",
     "text": [
      "5.00000000000000\n"
     ]
    }
   ],
   "source": [
    "ke_i = 0.5*ma*va1**2\n",
    "ke_i = ke_i.subs([(ma, 10), (va1, 1)])\n",
    "pprint(ke_i)"
   ]
  },
  {
   "cell_type": "markdown",
   "metadata": {},
   "source": [
    "Here is our initial kinetic energy, it should be constant as is shown here because this is before our collision."
   ]
  },
  {
   "cell_type": "code",
   "execution_count": 37,
   "metadata": {},
   "outputs": [],
   "source": [
    "p3 = plot(ke_i, ke_f, (e, 0, 1),\n",
    "         title=\"Kinetic Energy of a Two Object System\",\n",
    "         xlabel=\"Coefficient of Restitution [e]\",\n",
    "         ylabel=\"Kinetic Energy [J]\",\n",
    "         show=False)\n",
    "p3[0].line_color=\"green\"\n",
    "p3[1].line_color=\"red\""
   ]
  },
  {
   "cell_type": "code",
   "execution_count": 38,
   "metadata": {},
   "outputs": [
    {
     "data": {
      "image/png": "[encoded data removed]",
      "text/plain": [
       "<Figure size 432x288 with 1 Axes>"
      ]
     },
     "metadata": {
      "needs_background": "light"
     },
     "output_type": "display_data"
    }
   ],
   "source": [
    "p3.show()"
   ]
  },
  {
   "cell_type": "markdown",
   "metadata": {},
   "source": [
    "Here is what I would say is the best plot we got out of this problem. As we can see with e->0, our system is losing energy due to vibrations, sound, thermal exchanges etc. Although, as we approach e->1 with a perfectly elastic collision, we can see that we approach our initial energy of the system. This should be kept in mind for real systems, that unless in an ideal state, the final kinetic energy should always be less than the initial kinetic energy due to vibrations, friction and thermal transfer, etc."
   ]
  }
 ],
 "metadata": {
  "kernelspec": {
   "display_name": "Python 3",
   "language": "python",
   "name": "python3"
  },
  "language_info": {
   "codemirror_mode": {
    "name": "ipython",
    "version": 3
   },
   "file_extension": ".py",
   "mimetype": "text/x-python",
   "name": "python",
   "nbconvert_exporter": "python",
   "pygments_lexer": "ipython3",
   "version": "3.7.3"
  }
 },
 "nbformat": 4,
 "nbformat_minor": 2
}
