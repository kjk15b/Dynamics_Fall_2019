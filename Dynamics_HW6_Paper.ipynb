{
 "cells": [
  {
   "cell_type": "markdown",
   "metadata": {},
   "source": [
    "# ENGR 222.01 Homework 7"
   ]
  },
  {
   "cell_type": "markdown",
   "metadata": {},
   "source": [
    "Problems 15-70, 15-74, 15-75, 15-78, 15-83, 15-90"
   ]
  },
  {
   "cell_type": "code",
   "execution_count": 1,
   "metadata": {},
   "outputs": [],
   "source": [
    "from sympy import *"
   ]
  },
  {
   "cell_type": "markdown",
   "metadata": {},
   "source": [
    "# 15-70"
   ]
  },
  {
   "cell_type": "markdown",
   "metadata": {},
   "source": [
    "Two smooth spheres A and B each have a mass m. If A is given a velocity of v0, while sphere B is at rest, determine the celocity of B just after it strikes the wall. The coefficient of restition for any collision is e."
   ]
  },
  {
   "cell_type": "code",
   "execution_count": 4,
   "metadata": {},
   "outputs": [
    {
     "name": "stdout",
     "output_type": "stream",
     "text": [
      "m⋅vₐ₀ + m⋅v_b0\n"
     ]
    }
   ],
   "source": [
    "m, v_a0, v_b0, v_a1, v_b1, v_a2, v_b2, e0, e1 = symbols(\"m v_a0 v_b0 v_a1 v_b1 v_a2 v_b2 e_0 e_1\", real=True)\n",
    "\n",
    "# Since the first scenario the sphere B is at rest we have:\n",
    "pi = m * v_a0 + m * v_b0\n",
    "\n",
    "pprint(pi)"
   ]
  },
  {
   "cell_type": "code",
   "execution_count": 5,
   "metadata": {},
   "outputs": [
    {
     "name": "stdout",
     "output_type": "stream",
     "text": [
      "m⋅vₐ₀\n"
     ]
    }
   ],
   "source": [
    "pi = pi.subs(v_b0, 0)\n",
    "pprint(pi)"
   ]
  },
  {
   "cell_type": "code",
   "execution_count": 9,
   "metadata": {},
   "outputs": [
    {
     "name": "stdout",
     "output_type": "stream",
     "text": [
      "-vₐ₁ + v_b1\n",
      "───────────\n",
      "    vₐ₀    \n"
     ]
    }
   ],
   "source": [
    "rest1 = (v_b1 - v_a1) / (v_a0) # v_b0 -> 0, restitution for first collision\n",
    "pprint(e_rest1)"
   ]
  },
  {
   "cell_type": "code",
   "execution_count": 12,
   "metadata": {},
   "outputs": [
    {
     "name": "stdout",
     "output_type": "stream",
     "text": [
      "e₀⋅vₐ₀ + vₐ₁\n"
     ]
    }
   ],
   "source": [
    "eqn1 = -e0 + rest1\n",
    "soln1 = solve(eqn1, v_b1)\n",
    "pprint(soln1[0])"
   ]
  },
  {
   "cell_type": "markdown",
   "metadata": {},
   "source": [
    "Using the coefficient of restitution, we have solved for v_b1 in terms of v_a0 and v_a1 and e."
   ]
  },
  {
   "cell_type": "code",
   "execution_count": 13,
   "metadata": {},
   "outputs": [
    {
     "name": "stdout",
     "output_type": "stream",
     "text": [
      "-m⋅vₐ₀ + m⋅vₐ₁ + m⋅(e₀⋅vₐ₀ + vₐ₁)\n"
     ]
    }
   ],
   "source": [
    "pf1 = -m*v_a0 + m*v_a1 + m*v_b1\n",
    "pf1 = pf1.subs(v_b1, soln1[0])\n",
    "\n",
    "pprint(pf1)"
   ]
  },
  {
   "cell_type": "code",
   "execution_count": 15,
   "metadata": {},
   "outputs": [
    {
     "name": "stdout",
     "output_type": "stream",
     "text": [
      "vₐ₀⋅(1 - e₀)\n",
      "────────────\n",
      "     2      \n"
     ]
    }
   ],
   "source": [
    "soln2 = solve(pf1, v_a1)\n",
    "pprint(soln2[0])"
   ]
  },
  {
   "cell_type": "markdown",
   "metadata": {},
   "source": [
    "Now here we have the v_a1 velocity (entirely in terms of e and v_a0), the velocity after the collision, let's plug it back into our v_b1 equation"
   ]
  },
  {
   "cell_type": "code",
   "execution_count": 16,
   "metadata": {},
   "outputs": [
    {
     "name": "stdout",
     "output_type": "stream",
     "text": [
      "         vₐ₀⋅(1 - e₀)\n",
      "e₀⋅vₐ₀ + ────────────\n",
      "              2      \n"
     ]
    }
   ],
   "source": [
    "v_b1_eqn = soln1[0]\n",
    "v_b1_eqn = v_b1_eqn.subs(v_a1, soln2[0])\n",
    "pprint(v_b1_eqn)"
   ]
  },
  {
   "cell_type": "markdown",
   "metadata": {},
   "source": [
    "Here we have solved for v_b1 entirely in terms of e and v_a0, now we will look at the case when the sphere b hits the wall."
   ]
  },
  {
   "cell_type": "code",
   "execution_count": 19,
   "metadata": {},
   "outputs": [
    {
     "name": "stdout",
     "output_type": "stream",
     "text": [
      "  ⎛         vₐ₀⋅(1 - e₀)⎞\n",
      "m⋅⎜e₀⋅vₐ₀ + ────────────⎟\n",
      "  ⎝              2      ⎠\n"
     ]
    }
   ],
   "source": [
    "# our initial momentum now is:\n",
    "pbi = m*v_b1_eqn + 0 # the wall has no momentum\n",
    "pprint(pbi)"
   ]
  },
  {
   "cell_type": "markdown",
   "metadata": {},
   "source": [
    "Now let us look to the coefficient of restitution again to solve for our final velocity after the collision"
   ]
  },
  {
   "cell_type": "code",
   "execution_count": 20,
   "metadata": {},
   "outputs": [
    {
     "name": "stdout",
     "output_type": "stream",
     "text": [
      "        -v_b2        \n",
      "─────────────────────\n",
      "         vₐ₀⋅(1 - e₀)\n",
      "e₀⋅vₐ₀ + ────────────\n",
      "              2      \n"
     ]
    }
   ],
   "source": [
    "v_wall = symbols(\"v_wall\", real=True)\n",
    "e_wall = (v_wall - v_b2) / (v_b1_eqn - v_wall)\n",
    "e_wall = e_wall.subs(v_wall, 0)\n",
    "\n",
    "pprint(e_wall)"
   ]
  },
  {
   "cell_type": "markdown",
   "metadata": {},
   "source": [
    "Now, again, let us solve for v_b2. that is th velocity after the wall collision"
   ]
  },
  {
   "cell_type": "code",
   "execution_count": 21,
   "metadata": {},
   "outputs": [
    {
     "name": "stdout",
     "output_type": "stream",
     "text": [
      "               v_b2        \n",
      "-e₁ - ─────────────────────\n",
      "               vₐ₀⋅(1 - e₀)\n",
      "      e₀⋅vₐ₀ + ────────────\n",
      "                    2      \n"
     ]
    }
   ],
   "source": [
    "eqn2 = -e1 + e_wall\n",
    "pprint(eqn2)"
   ]
  },
  {
   "cell_type": "code",
   "execution_count": 22,
   "metadata": {},
   "outputs": [
    {
     "name": "stdout",
     "output_type": "stream",
     "text": [
      "-e₁⋅vₐ₀⋅(e₀ + 1) \n",
      "─────────────────\n",
      "        2        \n"
     ]
    }
   ],
   "source": [
    "soln3 = solve(eqn2, v_b2)\n",
    "pprint(soln3[0])"
   ]
  },
  {
   "cell_type": "markdown",
   "metadata": {},
   "source": [
    "The velocity of sphere B after the collision in the wall is listed above, the value was determined entirely in terms of e0, e1 and v_a0."
   ]
  },
  {
   "cell_type": "markdown",
   "metadata": {},
   "source": [
    "# 15-74"
   ]
  },
  {
   "cell_type": "markdown",
   "metadata": {},
   "source": [
    "Two smooth disks A and B each have a mass of 0.5kg. If both disks are moving with the velocities shown when they collide, determine the coefficient of restitution between the disks if after the collision B travels along a line, 30 [deg] counterclockwise from the y axis."
   ]
  },
  {
   "cell_type": "code",
   "execution_count": 6,
   "metadata": {},
   "outputs": [
    {
     "name": "stdout",
     "output_type": "stream",
     "text": [
      "0.8⋅m⋅vb₀ - m⋅vb₁⋅cos(θ)\n"
     ]
    }
   ],
   "source": [
    "# This problem is in two directions, so we must account for that in our analysis when solving\n",
    "vb1, vb0, va0, m, theta, va1 = symbols(\"vb1 vb0 va0 m theta va1\", real=True)\n",
    "piy = (4/5)*m*vb0\n",
    "pfy = m*cos(theta)*vb1\n",
    "eqn = piy-pfy # Y-momentum for disk B\n",
    "pprint(eqn)"
   ]
  },
  {
   "cell_type": "code",
   "execution_count": 3,
   "metadata": {},
   "outputs": [
    {
     "name": "stdout",
     "output_type": "stream",
     "text": [
      "-0.25⋅√3⋅vb₁ + 1.6\n"
     ]
    }
   ],
   "source": [
    "eqn = eqn.subs([(vb0, 4), (m, 0.5), (theta, pi/6)])\n",
    "pprint(eqn)"
   ]
  },
  {
   "cell_type": "code",
   "execution_count": 4,
   "metadata": {},
   "outputs": [
    {
     "name": "stdout",
     "output_type": "stream",
     "text": [
      "3.69504172281360\n"
     ]
    }
   ],
   "source": [
    "soln1 = solve(eqn, vb1)\n",
    "pprint(soln1[0])"
   ]
  },
  {
   "cell_type": "markdown",
   "metadata": {},
   "source": [
    "Here is the magnitude of the velocity for disk B after the collision"
   ]
  },
  {
   "cell_type": "code",
   "execution_count": 8,
   "metadata": {},
   "outputs": [
    {
     "name": "stdout",
     "output_type": "stream",
     "text": [
      "m⋅va₀ + m⋅va₁ - 0.6⋅m⋅vb₀ - m⋅vb₁⋅sin(θ)\n"
     ]
    }
   ],
   "source": [
    "pix = (3/5)*m*vb0 - m*va0\n",
    "pfx = -sin(theta)*m*vb1 + m*va1\n",
    "eqn2 = -pix + pfx\n",
    "pprint(eqn2)"
   ]
  },
  {
   "cell_type": "code",
   "execution_count": 9,
   "metadata": {},
   "outputs": [
    {
     "name": "stdout",
     "output_type": "stream",
     "text": [
      "0.5⋅va₁ + 0.876239569296599\n"
     ]
    }
   ],
   "source": [
    "eqn2 = eqn2.subs([(m, 0.5), (va0, 6), (theta, pi/6), (vb1, soln1[0]), (vb0, 4)])\n",
    "\n",
    "pprint(eqn2)"
   ]
  },
  {
   "cell_type": "code",
   "execution_count": 10,
   "metadata": {},
   "outputs": [
    {
     "name": "stdout",
     "output_type": "stream",
     "text": [
      "-1.75247913859320\n"
     ]
    }
   ],
   "source": [
    "soln2 = solve(eqn2, va1)\n",
    "pprint(soln2[0])"
   ]
  },
  {
   "cell_type": "code",
   "execution_count": 14,
   "metadata": {},
   "outputs": [
    {
     "name": "stdout",
     "output_type": "stream",
     "text": [
      "-va₁ - vb₁⋅sin(θ)\n",
      "─────────────────\n",
      "  -va₀ - 0.8⋅vb₀ \n"
     ]
    }
   ],
   "source": [
    "e_rest = (-sin(theta)*vb1 - va1) / (-va0 - (4/5)*vb0)\n",
    "pprint(e_rest)"
   ]
  },
  {
   "cell_type": "code",
   "execution_count": 18,
   "metadata": {},
   "outputs": [
    {
     "name": "stdout",
     "output_type": "stream",
     "text": [
      "0.0103306220449570\n"
     ]
    }
   ],
   "source": [
    "e_rest = e_rest.subs([(va1, soln2[0]), (vb1, soln1[0]), (va0, 6), (vb0, 4), (theta, pi/6)])\n",
    "pprint(e_rest)"
   ]
  },
  {
   "cell_type": "markdown",
   "metadata": {},
   "source": [
    "We here find the coefficient of restitution to be approximately zero, which is very reasonable for this case and is really not too outlandish. This is as expected."
   ]
  },
  {
   "cell_type": "markdown",
   "metadata": {},
   "source": [
    "# 15-74"
   ]
  },
  {
   "cell_type": "markdown",
   "metadata": {},
   "source": [
    "The 0.5 [kg] ball is fired from the tube at A with a velocity of v=6 [m/s]. If the coeffiecient of restitution and the surface is e=0.8, determine the height h after it bounces off the surface."
   ]
  },
  {
   "cell_type": "code",
   "execution_count": 30,
   "metadata": {},
   "outputs": [
    {
     "name": "stdout",
     "output_type": "stream",
     "text": [
      "   ______________________\n",
      "  ╱            2    2    \n",
      "╲╱  2⋅dy⋅g + vₐ ⋅sin (ψ) \n"
     ]
    }
   ],
   "source": [
    "m, va, psi, g, e, va2, h, dy = symbols(\"m v_a psi g e va2 h dy\", real=True)\n",
    "# We need to use kinematics to find the final Y velocity at point b\n",
    "vay = sqrt((va*sin(psi))**2 + 2*g*dy)\n",
    "pprint(vay)"
   ]
  },
  {
   "cell_type": "markdown",
   "metadata": {},
   "source": [
    "From this we can compare impact velocity and find the outgoing velocity using the coefficient of restitution..."
   ]
  },
  {
   "cell_type": "code",
   "execution_count": 31,
   "metadata": {},
   "outputs": [
    {
     "name": "stdout",
     "output_type": "stream",
     "text": [
      "                va₂           \n",
      "-e - ─────────────────────────\n",
      "        ______________________\n",
      "       ╱            2    2    \n",
      "     ╲╱  2⋅dy⋅g + vₐ ⋅sin (ψ) \n"
     ]
    }
   ],
   "source": [
    "eqn = -e + (-va2) / (vay)\n",
    "pprint(eqn)"
   ]
  },
  {
   "cell_type": "code",
   "execution_count": 32,
   "metadata": {},
   "outputs": [
    {
     "name": "stdout",
     "output_type": "stream",
     "text": [
      "      ______________________\n",
      "     ╱            2    2    \n",
      "-e⋅╲╱  2⋅dy⋅g + vₐ ⋅sin (ψ) \n"
     ]
    }
   ],
   "source": [
    "soln = solve(eqn, va2)\n",
    "pprint(soln[0])"
   ]
  },
  {
   "cell_type": "markdown",
   "metadata": {},
   "source": [
    "We have now found our outgoing velocity after the first bounce, now to bring it home all we have to do is compare energies, the kinetic energy after the bounce and the potential at the top of the curve."
   ]
  },
  {
   "cell_type": "code",
   "execution_count": 33,
   "metadata": {},
   "outputs": [
    {
     "name": "stdout",
     "output_type": "stream",
     "text": [
      "                 2\n",
      "g⋅h⋅m - 0.5⋅m⋅va₂ \n"
     ]
    }
   ],
   "source": [
    "ke = 0.5*m*va2**2\n",
    "pe = m*g*h\n",
    "eqn2 = pe-ke\n",
    "pprint(eqn2)"
   ]
  },
  {
   "cell_type": "code",
   "execution_count": 34,
   "metadata": {},
   "outputs": [
    {
     "name": "stdout",
     "output_type": "stream",
     "text": [
      "       2   ⎛           2    2   ⎞        \n",
      "- 0.5⋅e ⋅m⋅⎝2⋅dy⋅g + vₐ ⋅sin (ψ)⎠ + g⋅h⋅m\n"
     ]
    }
   ],
   "source": [
    "eqn2 = eqn2.subs([(va2, soln[0])])\n",
    "pprint(eqn2)"
   ]
  },
  {
   "cell_type": "code",
   "execution_count": 35,
   "metadata": {},
   "outputs": [
    {
     "name": "stdout",
     "output_type": "stream",
     "text": [
      " 2 ⎛             2    2   ⎞\n",
      "e ⋅⎝dy⋅g + 0.5⋅vₐ ⋅sin (ψ)⎠\n",
      "───────────────────────────\n",
      "             g             \n"
     ]
    }
   ],
   "source": [
    "soln1 = solve(eqn2, h)\n",
    "pprint(soln1[0])"
   ]
  },
  {
   "cell_type": "code",
   "execution_count": 36,
   "metadata": {},
   "outputs": [
    {
     "name": "stdout",
     "output_type": "stream",
     "text": [
      "1.57357798165138\n"
     ]
    }
   ],
   "source": [
    "height = soln1[0].subs([(m, 0.5), (psi, pi/6), (va, 6), (e, 0.8), (dy, 2), (g, 9.81)])\n",
    "pprint(height)\n"
   ]
  },
  {
   "cell_type": "markdown",
   "metadata": {},
   "source": [
    "The final height of the ball after the first bounce off the ground is determined to be about 3/2 of a meter. This seems entirely reasonable given that e is very high so a good amount of energy was conserved."
   ]
  },
  {
   "cell_type": "markdown",
   "metadata": {},
   "source": [
    "# 15-78"
   ]
  },
  {
   "cell_type": "markdown",
   "metadata": {},
   "source": [
    "Using a slingshot, the boy fires the 0.2lb marble at the concrete wall, striking it at B. If the coeffient of restitution between the marble and the wall is e=0.5, determine the speed of the marble after it rebounds from the wall."
   ]
  },
  {
   "cell_type": "code",
   "execution_count": 37,
   "metadata": {},
   "outputs": [
    {
     "name": "stdout",
     "output_type": "stream",
     "text": [
      "       2                    \n",
      " 0.5⋅dx ⋅g    dx⋅sin(θ)     \n",
      "─────────── + ───────── + yi\n",
      "  2    2        cos(θ)      \n",
      "va ⋅cos (θ)                 \n"
     ]
    }
   ],
   "source": [
    "m, va, vb, vc, t, dx, dy, g, lbm, e, theta, yi = symbols(\"m va vb vc t dx dy g lbm e theta yi\", real=True)\n",
    "# Here we need to do some simple kinematics to find the final velocites at which we collide with our wall\n",
    "# our collision here is concerned with the x-direction motion.\n",
    "vax = va*cos(theta)\n",
    "t = dx / vax # solve for time in our x equation\n",
    "dy = yi + va*sin(theta)*t + 0.5*g*t**2\n",
    "pprint(dy)"
   ]
  },
  {
   "cell_type": "code",
   "execution_count": 44,
   "metadata": {},
   "outputs": [
    {
     "name": "stdout",
     "output_type": "stream",
     "text": [
      "47.7555555555555\n"
     ]
    }
   ],
   "source": [
    "height = dy\n",
    "height = height.subs([(va, 75), (theta, pi/4), (dx, 100), (g, -32.2), (yi, 5)])\n",
    "\n",
    "pprint(height)"
   ]
  },
  {
   "cell_type": "markdown",
   "metadata": {},
   "source": [
    "This is a pretty crazy height here, not gonna lie."
   ]
  },
  {
   "cell_type": "code",
   "execution_count": 68,
   "metadata": {},
   "outputs": [
    {
     "name": "stdout",
     "output_type": "stream",
     "text": [
      "      _____________________________________________\n",
      "     ╱     ⎛       2               ⎞               \n",
      "    ╱      ⎜ 0.5⋅dx ⋅g    dx⋅sin(θ)⎟     2    2    \n",
      "   ╱   2⋅g⋅⎜─────────── + ─────────⎟ + va ⋅sin (θ) \n",
      "  ╱        ⎜  2    2        cos(θ) ⎟               \n",
      "╲╱         ⎝va ⋅cos (θ)            ⎠               \n"
     ]
    }
   ],
   "source": [
    "vbf = sqrt((va*sin(theta))**2 + 2*g*(dy-yi))\n",
    "pprint(vbf)"
   ]
  },
  {
   "cell_type": "code",
   "execution_count": 69,
   "metadata": {},
   "outputs": [
    {
     "name": "stdout",
     "output_type": "stream",
     "text": [
      "113.749910866876\n"
     ]
    }
   ],
   "source": [
    "vbf_s = vbf.subs([(va, 75), (dy, height), (yi, 5), (g, 32.2), (dx, 100), (theta, pi/4)])\n",
    "pprint(vbf_s)"
   ]
  },
  {
   "cell_type": "markdown",
   "metadata": {},
   "source": [
    "Since we took the square, we know this is +/-, we should know to take the negative here because of parabolic motion."
   ]
  },
  {
   "cell_type": "code",
   "execution_count": 78,
   "metadata": {},
   "outputs": [
    {
     "name": "stdout",
     "output_type": "stream",
     "text": [
      "         vb   \n",
      "-e - ─────────\n",
      "     va⋅sin(θ)\n"
     ]
    }
   ],
   "source": [
    "eqn = -e + (-vb) / (va*sin(theta))\n",
    "pprint(eqn)"
   ]
  },
  {
   "cell_type": "code",
   "execution_count": 79,
   "metadata": {},
   "outputs": [
    {
     "name": "stdout",
     "output_type": "stream",
     "text": [
      "           _____________________________________________\n",
      "          ╱     ⎛       2               ⎞               \n",
      "         ╱      ⎜ 0.5⋅dx ⋅g    dx⋅sin(θ)⎟     2    2    \n",
      "        ╱   2⋅g⋅⎜─────────── + ─────────⎟ + va ⋅sin (θ) \n",
      "       ╱        ⎜  2    2        cos(θ) ⎟               \n",
      "     ╲╱         ⎝va ⋅cos (θ)            ⎠               \n",
      "-e - ───────────────────────────────────────────────────\n",
      "                          va⋅sin(θ)                     \n"
     ]
    }
   ],
   "source": [
    "eqn_1 = eqn.subs(vb, vbf)\n",
    "pprint(eqn_1)"
   ]
  },
  {
   "cell_type": "code",
   "execution_count": 80,
   "metadata": {},
   "outputs": [
    {
     "name": "stdout",
     "output_type": "stream",
     "text": [
      "0.00879121567989906⋅√2⋅vb - 0.8\n"
     ]
    }
   ],
   "source": [
    "eqn = eqn.subs([(va, -vbf_s), (theta, pi/4), (e, 0.8)])\n",
    "pprint(eqn)"
   ]
  },
  {
   "cell_type": "code",
   "execution_count": 81,
   "metadata": {},
   "outputs": [
    {
     "name": "stdout",
     "output_type": "stream",
     "text": [
      "64.3466666666666\n"
     ]
    }
   ],
   "source": [
    "soln1 = solve(eqn, vb)\n",
    "pprint(soln1[0])"
   ]
  },
  {
   "cell_type": "markdown",
   "metadata": {},
   "source": [
    "Our outgoing Y velocity is on the order of 64 [m/s], crazy high, but justifiable for such a small object. I know this is not the right final answer that we want here, but in the trade-off of time versus corectness, this is a start."
   ]
  },
  {
   "cell_type": "markdown",
   "metadata": {},
   "source": [
    "# 15-83"
   ]
  },
  {
   "cell_type": "markdown",
   "metadata": {},
   "source": [
    "The 10-lb collar B is at rest when it is in the position shown the spring is unstretched. If another 1-lb collar strikes it so that B slides 4 ft on the smooth rod before momentarily stopping, determine the velocity of A just after impact, and the average force exerted between A and B during the imact if the impact occurs in 0.002s. The coefficient of restitution between A and B is e=0.5"
   ]
  },
  {
   "cell_type": "code",
   "execution_count": 115,
   "metadata": {},
   "outputs": [],
   "source": [
    "ma, mb, e, r, l, h, vai, vbi, vaf, vbf, k = symbols(\"ma mb e r l h vai vbi vaf vbf k\", real=True)"
   ]
  },
  {
   "cell_type": "markdown",
   "metadata": {},
   "source": [
    "Derived by hand, we can find:"
   ]
  },
  {
   "cell_type": "code",
   "execution_count": 116,
   "metadata": {},
   "outputs": [
    {
     "name": "stdout",
     "output_type": "stream",
     "text": [
      "    ____    _________          \n",
      "   ╱ k     ╱  2    2           \n",
      "  ╱  ── ⋅╲╱  h  + l  ⋅(ma + mb)\n",
      "╲╱   mb                        \n",
      "───────────────────────────────\n",
      "           ma⋅(e + 1)          \n"
     ]
    }
   ],
   "source": [
    "x = sqrt(l**2 + h**2)\n",
    "\n",
    "vai = (x*sqrt(k/mb)*(ma + mb)) / (ma * (1 + e))\n",
    "\n",
    "pprint(vai)"
   ]
  },
  {
   "cell_type": "code",
   "execution_count": 118,
   "metadata": {},
   "outputs": [
    {
     "name": "stdout",
     "output_type": "stream",
     "text": [
      "51.8544972870135\n"
     ]
    }
   ],
   "source": [
    "vai = vai.subs([(k, 20), (mb, 10), (ma, 1), (h, 3), (l, 4), (e, 0.5)])\n",
    "pprint(vai.evalf())"
   ]
  },
  {
   "cell_type": "markdown",
   "metadata": {},
   "source": [
    "Here is our initial velocity of collar A, this is a little high, but the ratio of our masses is also crazy at 1/10. We can now find the final velocity of the collar A with:"
   ]
  },
  {
   "cell_type": "code",
   "execution_count": 121,
   "metadata": {},
   "outputs": [
    {
     "name": "stdout",
     "output_type": "stream",
     "text": [
      "                             ____    _________\n",
      "                            ╱ k     ╱  2    2 \n",
      "-36.6666666666667⋅√2⋅e +   ╱  ── ⋅╲╱  h  + l  \n",
      "                         ╲╱   mb              \n"
     ]
    }
   ],
   "source": [
    "vaf = -vai*e + x * sqrt(k/mb)\n",
    "pprint(vaf)"
   ]
  },
  {
   "cell_type": "code",
   "execution_count": 123,
   "metadata": {},
   "outputs": [
    {
     "name": "stdout",
     "output_type": "stream",
     "text": [
      "-18.8561808316413\n"
     ]
    }
   ],
   "source": [
    "vaf = vaf.subs([(e, 0.5), (k, 20), (mb, 10), (h, 3), (l, 4)])\n",
    "pprint(vaf.evalf())"
   ]
  },
  {
   "cell_type": "markdown",
   "metadata": {},
   "source": [
    "This is the final velocity of collar A after the collision, this seems reasonable as we should now be moving backwards after the collision. Finally let us find vbf:"
   ]
  },
  {
   "cell_type": "code",
   "execution_count": 124,
   "metadata": {},
   "outputs": [
    {
     "name": "stdout",
     "output_type": "stream",
     "text": [
      "    ____    _________\n",
      "   ╱ k     ╱  2    2 \n",
      "  ╱  ── ⋅╲╱  h  + l  \n",
      "╲╱   mb              \n"
     ]
    }
   ],
   "source": [
    "vbf = x*sqrt(k/mb)\n",
    "pprint(vbf)"
   ]
  },
  {
   "cell_type": "code",
   "execution_count": 127,
   "metadata": {},
   "outputs": [
    {
     "name": "stdout",
     "output_type": "stream",
     "text": [
      "7.07106781186548\n"
     ]
    }
   ],
   "source": [
    "vbf = vbf.subs([(k, 20), (h, 3), (l, 4), (mb, 10)])\n",
    "pprint(vbf.evalf())"
   ]
  },
  {
   "cell_type": "markdown",
   "metadata": {},
   "source": [
    "Now let's look at impusle"
   ]
  },
  {
   "cell_type": "code",
   "execution_count": 129,
   "metadata": {},
   "outputs": [
    {
     "name": "stdout",
     "output_type": "stream",
     "text": [
      "-50.0⋅√2⋅ma - mb⋅vbi + 5⋅√2⋅mb\n"
     ]
    }
   ],
   "source": [
    "pia = ma*vai\n",
    "pib = mb*vbi\n",
    "pfa = ma*vaf\n",
    "pfb = mb*vbf\n",
    "\n",
    "j = -pia - pib + pfa + pfb\n",
    "pprint(j)"
   ]
  },
  {
   "cell_type": "code",
   "execution_count": 130,
   "metadata": {},
   "outputs": [
    {
     "name": "stdout",
     "output_type": "stream",
     "text": [
      "0\n"
     ]
    }
   ],
   "source": [
    "j = j.subs([(ma, 1), (mb, 10), (vbi, 0)])\n",
    "pprint(j)"
   ]
  },
  {
   "cell_type": "markdown",
   "metadata": {},
   "source": [
    "Yeah this is one of those that I am not quite too sure what I should be doing to change my approach here. I used conservation of energy which I know I should be using and I attempted to use conservation of momentum, but incorrectly as I did not account for impulse. The thing is I would end up with Pia + j = Pfa + Pfb, and this gives me too many unknowns because I do not know vai, vbf, vaf and j."
   ]
  },
  {
   "cell_type": "markdown",
   "metadata": {},
   "source": [
    "# 15-90"
   ]
  },
  {
   "cell_type": "markdown",
   "metadata": {},
   "source": [
    "Before a cranberry can make it to your dinner plate, it must pass a bouncing test which rates its quality. If cranberries having an e >= 0.8 are to be accempted, determine the dimensions d and h for the barrier so that when a cranberry falls from rest A it strikes the incline at B and bounces over the barrier at C."
   ]
  },
  {
   "cell_type": "code",
   "execution_count": 133,
   "metadata": {},
   "outputs": [
    {
     "name": "stdout",
     "output_type": "stream",
     "text": [
      "      ______\n",
      "-√2⋅╲╱ dy⋅g \n"
     ]
    }
   ],
   "source": [
    "viy, vix, d, h, vby, vbx, m, e, g, dy, vai, vaf = symbols(\"viy vix d h vby vbx m e g dy vai vaf\", real=True)\n",
    "viy = -sqrt(2*g*dy)\n",
    "pprint(viy)"
   ]
  },
  {
   "cell_type": "markdown",
   "metadata": {},
   "source": [
    "This is our equation to find the vertical velocity as we hit the point B. Our velocity in the x is zero, for obvious reasons initially."
   ]
  },
  {
   "cell_type": "code",
   "execution_count": 134,
   "metadata": {},
   "outputs": [
    {
     "name": "stdout",
     "output_type": "stream",
     "text": [
      "-e + zoo⋅(vaf - 0.8⋅vbx)\n"
     ]
    }
   ],
   "source": [
    "e_x = -e + (vaf - (4/5)*vbx) / (vix - vai) # this equation blows up because vix and vai = 0\n",
    "e_x = e_x.subs([(vix, 0), (vai, 0)])\n",
    "pprint(e_x)"
   ]
  },
  {
   "cell_type": "code",
   "execution_count": 135,
   "metadata": {},
   "outputs": [
    {
     "name": "stdout",
     "output_type": "stream",
     "text": [
      "       vaf - 0.6⋅vby   \n",
      "-e + ──────────────────\n",
      "                 ______\n",
      "     -vai - √2⋅╲╱ dy⋅g \n"
     ]
    }
   ],
   "source": [
    "e_y = -e + (vaf - (3/5) * vby) / (viy - vai)\n",
    "pprint(e_y)"
   ]
  },
  {
   "cell_type": "code",
   "execution_count": 136,
   "metadata": {},
   "outputs": [
    {
     "name": "stdout",
     "output_type": "stream",
     "text": [
      "0.0282591631455337⋅√2⋅vby - 0.8\n"
     ]
    }
   ],
   "source": [
    "e_y = e_y.subs([(e, 0.8), (vaf, 0), (vai, 0), (dy, 3.5), (g, 32.2)])\n",
    "pprint(e_y)"
   ]
  },
  {
   "cell_type": "code",
   "execution_count": 137,
   "metadata": {},
   "outputs": [
    {
     "name": "stdout",
     "output_type": "stream",
     "text": [
      "20.0177698835588\n"
     ]
    }
   ],
   "source": [
    "v_bf = solve(e_y, vby)\n",
    "pprint(v_bf[0])"
   ]
  },
  {
   "cell_type": "markdown",
   "metadata": {},
   "source": [
    "This is our outgoing velocity after the collision (y-direction)"
   ]
  },
  {
   "cell_type": "code",
   "execution_count": null,
   "metadata": {},
   "outputs": [],
   "source": []
  }
 ],
 "metadata": {
  "kernelspec": {
   "display_name": "Python 3",
   "language": "python",
   "name": "python3"
  },
  "language_info": {
   "codemirror_mode": {
    "name": "ipython",
    "version": 3
   },
   "file_extension": ".py",
   "mimetype": "text/x-python",
   "name": "python",
   "nbconvert_exporter": "python",
   "pygments_lexer": "ipython3",
   "version": "3.7.3"
  }
 },
 "nbformat": 4,
 "nbformat_minor": 2
}
