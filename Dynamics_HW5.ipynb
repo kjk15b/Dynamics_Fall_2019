{
 "cells": [
  {
   "cell_type": "code",
   "execution_count": 1,
   "metadata": {},
   "outputs": [],
   "source": [
    "import numpy as np\n",
    "from matplotlib import pyplot as plt\n",
    "from sympy import *"
   ]
  },
  {
   "cell_type": "markdown",
   "metadata": {},
   "source": [
    "# 15-53"
   ]
  },
  {
   "cell_type": "markdown",
   "metadata": {},
   "source": [
    "Block A has a mass of 5kg and is placed on the smooth triangular block b having a mass of 30kg. If the system is released from rest, determine the distance B moves from the point O when A reaches the bottom. Neglect the size of block A.\n",
    "\n",
    "In our analysis, thankfully we can ignore friction, which will make things easier for our lives."
   ]
  },
  {
   "cell_type": "code",
   "execution_count": 7,
   "metadata": {},
   "outputs": [
    {
     "name": "stdout",
     "output_type": "stream",
     "text": [
      "Displacement:\t0.0714285714285714 [m]\n"
     ]
    }
   ],
   "source": [
    "ma, va, mb, v_ab, vb = symbols(\"m_a v_a m_b v_ab v_b\")\n",
    "# We can get straight into conservation of momentum here because\n",
    "# There are no frictional forces opposing motion\n",
    "# we also have the nice case of it starting at rest\n",
    "# mava = mbvb\n",
    "va = (mb/ma)*vb\n",
    "\n",
    "v_ab = va + vb # now we have our terms of velocity\n",
    "\n",
    "# we can integrate the velocity to find the distance\n",
    "# dr = v_ab r, where dr = 1/2 [m]\n",
    "# this gives us:\n",
    "r = (0.5) * (1 / v_ab)\n",
    "r = r.subs([(vb, 1), (mb, 30), (ma, 5)])\n",
    "print(\"Displacement:\\t{} [m]\".format(r))"
   ]
  },
  {
   "cell_type": "markdown",
   "metadata": {},
   "source": [
    "The answer that we record here is very reasonable if we consider the orientation of the system and the weights of the blocks. Considering the fact that we have a mass ratio of ~ 1/7, we would expect the bigger block to not really move too much, which is what has happened here. In the case of friction being prevelant, we would expect to see less motion."
   ]
  },
  {
   "cell_type": "markdown",
   "metadata": {},
   "source": [
    "# 15-58"
   ]
  },
  {
   "cell_type": "markdown",
   "metadata": {},
   "source": [
    "Disk A has a mass of 250g and is sliding on a smooth horizontal surface with an initial velocity of va=2m/s. It makes a direct collision with disk B, which has a mass of 175g and is originally at rest. If both disks are of the same size and the collision is perfectly elastic (e=1) determine the velocity of each disk just after the collision. Show that the kinetic energy of the disks before and after the collision is the same."
   ]
  },
  {
   "cell_type": "code",
   "execution_count": 8,
   "metadata": {},
   "outputs": [],
   "source": [
    "ma, mb, va_i, va_f, vb_f = symbols(\"m_a m_b v_ai v_af v_bf\", real=True)"
   ]
  },
  {
   "cell_type": "markdown",
   "metadata": {},
   "source": [
    "With conservation of energy, we have E_i - E_f = 0, E_i = E_f\n",
    "\n",
    "In our case, there are no potential energies stored in this system, so that simplifies down to kinetic energies.\n",
    "\n",
    "KE_a = KE_af + KE_bf.\n",
    "\n",
    "We can use this to begin to solve for our velocities."
   ]
  },
  {
   "cell_type": "markdown",
   "metadata": {},
   "source": [
    "Now we can plug this into our equation into the equation of restitution. This we will use to solve for one of our final velocities. After that point we will circle back to find the second through conservation of energy.\n",
    "\n",
    "The coefficient of restitution can be expressed as:\n",
    "\n",
    "e = vb2-va2/va1-vb1\n",
    "\n",
    "In our case, vb1 = 0\n",
    "\n",
    "So:\n",
    "e = vb2 - va2/va1\n",
    "\n",
    "\n",
    "1 = vb2-va2/va1\n",
    "\n",
    "\n",
    "va1 = vb2-va2\n",
    "\n",
    "\n",
    "va1+va2=vb2"
   ]
  },
  {
   "cell_type": "markdown",
   "metadata": {},
   "source": [
    "Now let's start substituting in terms."
   ]
  },
  {
   "cell_type": "markdown",
   "metadata": {},
   "source": [
    "Eh we started to go down the wrong path and I realized this problem is going to be significantly easier to solve graphically, so here we go.\n"
   ]
  },
  {
   "cell_type": "code",
   "execution_count": 17,
   "metadata": {},
   "outputs": [
    {
     "name": "stdout",
     "output_type": "stream",
     "text": [
      "          2                    2      \n",
      "0.125⋅v_af  + 0.0875⋅(v_af + 2)  - 0.5\n"
     ]
    }
   ],
   "source": [
    "ke_ai = 0.5 * ma * va_i ** 2\n",
    "ke_af = 0.5 * ma * va_f ** 2\n",
    "ke_bf = 0.5 * mb * (va_i + va_f) ** 2\n",
    "eqn = -ke_ai + ke_af + ke_bf\n",
    "\n",
    "eqn = eqn.subs([(ma, 250E-3), (mb, 175E-3), (va_i, 2)])\n",
    "pprint(eqn)"
   ]
  },
  {
   "cell_type": "markdown",
   "metadata": {},
   "source": [
    "Now we have this disgusting quadratic equation to solve for v_af"
   ]
  },
  {
   "cell_type": "code",
   "execution_count": 18,
   "metadata": {},
   "outputs": [
    {
     "name": "stdout",
     "output_type": "stream",
     "text": [
      "[-2.0, 0.352941176470588]\n"
     ]
    }
   ],
   "source": [
    "soln = solve(eqn, va_f)\n",
    "\n",
    "pprint(soln)"
   ]
  },
  {
   "cell_type": "markdown",
   "metadata": {},
   "source": [
    "So we get two velocities in this case, we now have to go to conservation of momentum to see which one is our correct answer."
   ]
  },
  {
   "cell_type": "code",
   "execution_count": 20,
   "metadata": {},
   "outputs": [
    {
     "name": "stdout",
     "output_type": "stream",
     "text": [
      "0.500000000000000\n"
     ]
    }
   ],
   "source": [
    "p_i = ma * va_i\n",
    "p_i = p_i.subs([(ma, 250E-3), (va_i, 2)])\n",
    "pprint(p_i) # print the intial puck momentum"
   ]
  },
  {
   "cell_type": "markdown",
   "metadata": {},
   "source": [
    "So we know that the sum of the momenta after our collision has to add up to be 1/2\n",
    "\n",
    "Let's look at our velocities as a list, then evaluate them."
   ]
  },
  {
   "cell_type": "code",
   "execution_count": 27,
   "metadata": {},
   "outputs": [
    {
     "name": "stdout",
     "output_type": "stream",
     "text": [
      "va_f:\t-2.00000000000000 [m/s]\tvb_f:\t0 [m/s]\n",
      "Net Momentum:\t-0.500000000000000 [kgm/s]\n",
      "--------------------\n",
      "va_f:\t0.352941176470588 [m/s]\tvb_f:\t2.35294117647059 [m/s]\n",
      "Net Momentum:\t0.500000000000000 [kgm/s]\n",
      "--------------------\n"
     ]
    }
   ],
   "source": [
    "vf_b = list(map(lambda x: x + 2, soln)) # fetch our list\n",
    "\n",
    "for i in range(len(vf_b)):\n",
    "    pa = (250E-3) * soln[i]\n",
    "    pb = (175E-3) * vf_b[i]\n",
    "    print(\"va_f:\\t{} [m/s]\\tvb_f:\\t{} [m/s]\".format(soln[i], vf_b[i]))\n",
    "    print(\"Net Momentum:\\t{} [kgm/s]\".format(pa+pb))\n",
    "    print(\"--------------------\")"
   ]
  },
  {
   "cell_type": "markdown",
   "metadata": {},
   "source": [
    "Looking at what we get from this solution set, we have a net momentum of -1/2 with our vb_f is equal to zero. This does not work because if we remember that momentum is a vector quantity, that means if we have a net + 1/2 beforehand, we have to have a net +1/2 after the collision.\n",
    "\n",
    "Thus this gives us:"
   ]
  },
  {
   "cell_type": "code",
   "execution_count": 30,
   "metadata": {},
   "outputs": [
    {
     "name": "stdout",
     "output_type": "stream",
     "text": [
      "Final Velocities:\n",
      "va_f:\t0.352941176470588 [m/s]\tvb_f:\t2.35294117647059 [m/s]\n"
     ]
    }
   ],
   "source": [
    "print(\"Final Velocities:\\nva_f:\\t{} [m/s]\\tvb_f:\\t{} [m/s]\".format(soln[1], vf_b[1]))"
   ]
  },
  {
   "cell_type": "markdown",
   "metadata": {},
   "source": [
    "# 15-58, but inelastic"
   ]
  },
  {
   "cell_type": "markdown",
   "metadata": {},
   "source": [
    "In the inelastic case, e=0, our lives become a lot easier. \n",
    "\n",
    "vb_f = va_f for our analysis now."
   ]
  },
  {
   "cell_type": "code",
   "execution_count": 36,
   "metadata": {},
   "outputs": [
    {
     "name": "stdout",
     "output_type": "stream",
     "text": [
      "mₐ⋅v_af - mₐ⋅vₐᵢ + m_b⋅v_af\n"
     ]
    }
   ],
   "source": [
    "p_a = ma * va_i\n",
    "p_af = ma * va_f\n",
    "p_bf = mb * va_f\n",
    "\n",
    "eqn2 = -p_a + p_af + p_bf\n",
    "\n",
    "pprint(eqn2)"
   ]
  },
  {
   "cell_type": "code",
   "execution_count": 37,
   "metadata": {},
   "outputs": [
    {
     "name": "stdout",
     "output_type": "stream",
     "text": [
      "0.425⋅v_af - 0.5\n"
     ]
    }
   ],
   "source": [
    "eqn2 = eqn2.subs([(mb, 175E-3), (ma, 250E-3), (va_i, 2)])\n",
    "\n",
    "pprint(eqn2)"
   ]
  },
  {
   "cell_type": "code",
   "execution_count": 38,
   "metadata": {},
   "outputs": [
    {
     "name": "stdout",
     "output_type": "stream",
     "text": [
      "[1.17647058823529]\n"
     ]
    }
   ],
   "source": [
    "soln2 = solve(eqn2, va_f)\n",
    "\n",
    "pprint(soln2)"
   ]
  },
  {
   "cell_type": "markdown",
   "metadata": {},
   "source": [
    "This is the solution to the problem, in the case of inelasatic collisions, kinetic energy is not conserved, but thankfully because of other things, a lot of things cancel in our analysis. This made our problem simplify down to pi = pa + pb in terms of momentum."
   ]
  },
  {
   "cell_type": "code",
   "execution_count": 40,
   "metadata": {},
   "outputs": [
    {
     "name": "stdout",
     "output_type": "stream",
     "text": [
      "Final Velocity:\n",
      "va_f:\t1.17647058823529 [m/s]\n"
     ]
    }
   ],
   "source": [
    "print(\"Final Velocity:\\nva_f:\\t{} [m/s]\".format(soln2[0]))"
   ]
  }
 ],
 "metadata": {
  "kernelspec": {
   "display_name": "Python 3",
   "language": "python",
   "name": "python3"
  },
  "language_info": {
   "codemirror_mode": {
    "name": "ipython",
    "version": 3
   },
   "file_extension": ".py",
   "mimetype": "text/x-python",
   "name": "python",
   "nbconvert_exporter": "python",
   "pygments_lexer": "ipython3",
   "version": "3.7.3"
  }
 },
 "nbformat": 4,
 "nbformat_minor": 2
}
