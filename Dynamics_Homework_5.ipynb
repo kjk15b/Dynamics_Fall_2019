{
 "cells": [
  {
   "cell_type": "code",
   "execution_count": 1,
   "metadata": {},
   "outputs": [],
   "source": [
    "import numpy as np\n",
    "from matplotlib import pyplot as plt\n",
    "from sympy import *"
   ]
  },
  {
   "cell_type": "markdown",
   "metadata": {},
   "source": [
    "# 15-22"
   ]
  },
  {
   "cell_type": "markdown",
   "metadata": {},
   "source": [
    "Using conservation of momentum, determine the final velocity of a 4Mg rocket sled. Find this at the time t=35s.\n",
    "\n",
    "\n",
    "For this problem we have m1v1 + j = m1v2. In this assumption, we have v1=0, so we get j=m1v2. Meaning if we directly evaluate the integrals we can determine the final velocity."
   ]
  },
  {
   "cell_type": "code",
   "execution_count": 7,
   "metadata": {},
   "outputs": [
    {
     "name": "stdout",
     "output_type": "stream",
     "text": [
      "Final Velocity:\t108.333333333333 [m/s]\n"
     ]
    }
   ],
   "source": [
    "mass = 4 # [Mg] -> units cancel out with kN and Mg\n",
    "t = symbols(\"t\", real=True)\n",
    "\n",
    "area_1 = integrate(4*sqrt(t), (t, 0, 25)) # find the area of the first curve\n",
    "area_2 = 0.5 * 20 * (35 - 25) # the second area is just a triangle\n",
    "\n",
    "j = area_1 + area_2\n",
    "\n",
    "v_final = j / mass\n",
    "print(\"Final Velocity:\\t{} [m/s]\".format(v_final))"
   ]
  },
  {
   "cell_type": "markdown",
   "metadata": {},
   "source": [
    "This is a pretty reasonable velocity here. We would expect something pretty high given that it is a sled rocket running for half a minute.\n",
    "\n",
    "Next we will find the final displacement. This is mostly based off of a lot of assumptions. v1=0, x1=0. \n",
    "\n",
    "Here we have two equations, 4sqrt(t) and y = -2t + 70. Integrating these two with respect to time gives us the final displacement. That is we have F/m = a and itegrating that twice."
   ]
  },
  {
   "cell_type": "code",
   "execution_count": 15,
   "metadata": {},
   "outputs": [
    {
     "name": "stdout",
     "output_type": "stream",
     "text": [
      "Total Displacement:\t3812.50000000000 [m]\n"
     ]
    }
   ],
   "source": [
    "F_1 = 4 * sqrt(t)\n",
    "F_2 = -2*t + 70\n",
    "\n",
    "# evaluating the first curve\n",
    "a_1 = F_1 / mass\n",
    "x_1 = integrate(integrate(a_1, (t)), (t, 0, 25)) # find the first displacement\n",
    "\n",
    "a_2 = F_2 / mass\n",
    "x_2 = integrate(integrate(a_2, (t)), (t, 25, 35)) # find the second displacement\n",
    "\n",
    "total_x = x_1.evalf() + x_2.evalf()\n",
    "\n",
    "print(\"Total Displacement:\\t{} [m]\".format(total_x))"
   ]
  },
  {
   "cell_type": "markdown",
   "metadata": {},
   "source": [
    "This seems like a pretty reasonable displacement considering how fast the rocket sled was going, so this does not seem too outlandish."
   ]
  },
  {
   "cell_type": "markdown",
   "metadata": {},
   "source": [
    "# 15-34"
   ]
  },
  {
   "cell_type": "markdown",
   "metadata": {},
   "source": [
    "We are interested in this problem with finding the average impulse on a ball as it hits a bat. We first need to use kinematics to solve this problem though.\n",
    "\n",
    "Our first step is to solve for v2 and time of flight t_f"
   ]
  },
  {
   "cell_type": "code",
   "execution_count": 30,
   "metadata": {},
   "outputs": [
    {
     "name": "stdout",
     "output_type": "stream",
     "text": [
      "Impulse:\t12835.7005362959 [N*s]\n"
     ]
    }
   ],
   "source": [
    "v2, v1, t_f, m_b, theta, dx, yi, yf, g, dt = symbols(\"v_2 v_1 t_f m_b theta dx y_i y_f g t\", real=True)\n",
    "# we find our first equation of motion to be\n",
    "t = dx / (v2 * cos(theta)) # from horizontal projectile motion\n",
    "\n",
    "# we find our second equation of motion to be\n",
    "# for SymPy syntax I have to do things backwards\n",
    "eqn = (yi - yf) + v2*sin(theta)*t + 0.5 * g * t**2\n",
    "# Now we want to start reducing terms by substituting\n",
    "eqn = eqn.subs([(yi, 0.75), (yf, 2.5), (g, 9.81), (theta, pi/6), (dx, 100)])\n",
    "\n",
    "v_2 = sqrt(65400 / 55.985) # SymPy is having problems with algebraicly solving\n",
    "\n",
    "# now we can go to m1v1 + j = m1v2\n",
    "\n",
    "j = (m_b*(v_2 + v1)) / dt\n",
    "j = j.subs([(m_b, 0.15), (v1, 30), (dt, 0.75E-3)])\n",
    "print(\"Impulse:\\t{} [N*s]\".format(j))\n"
   ]
  },
  {
   "cell_type": "markdown",
   "metadata": {},
   "source": [
    "This is not too crazy of a number here, we had about 30 m/s going to the right and 30 m/s going to the left, adding the two vectors gives us a rather large impulse to cause that change in direction."
   ]
  },
  {
   "cell_type": "markdown",
   "metadata": {},
   "source": [
    "# F15-12"
   ]
  },
  {
   "cell_type": "markdown",
   "metadata": {},
   "source": [
    "The cannon and support without a projectile have a mass of 250kg. If a 20-kg projectile is fired from the cannon with a velocity of 400 m/s, measured relative to the cannon, determine the speed of the projectile as it leaves the barrel of the cannon. Neglect rolling resistance."
   ]
  },
  {
   "cell_type": "code",
   "execution_count": 33,
   "metadata": {},
   "outputs": [
    {
     "name": "stdout",
     "output_type": "stream",
     "text": [
      "-m_proj⋅v_proj_2 \n",
      "─────────────────\n",
      "      m_can      \n",
      "\n",
      "\n",
      "Cannon Velocity:\t-32 [m/s]\n"
     ]
    }
   ],
   "source": [
    "m_cannon, m_projectile, v_cannon2, v_projectile2 = symbols(\"m_can m_proj v_can_2 v_proj_2\")\n",
    "# Here, as always, we need to conserve momentum, so mcv1 + mpv1 = mcv2 + mpv2\n",
    "# We are under the assumption that the cannon is not moving before the projectile is shot\n",
    "# this gives mcv2 = -mpv2\n",
    "# where vc2 = -mpv2/mc\n",
    "\n",
    "v_cannon2 = -(m_projectile/m_cannon) * v_projectile2\n",
    "\n",
    "pprint(v_cannon2)\n",
    "print(\"\\n\")\n",
    "v_cannon2 = v_cannon2.subs([(m_projectile, 20), (m_cannon, 250), (v_projectile2, 400)])\n",
    "\n",
    "print(\"Cannon Velocity:\\t{} [m/s]\".format(v_cannon2))"
   ]
  },
  {
   "cell_type": "markdown",
   "metadata": {},
   "source": [
    "This is a pretty high velocity here, more than I would anticipate for a cannon. But again, we did not consider things like rolling resistance and friction. Although, we do have v_cannon << v_projectile which was expected."
   ]
  },
  {
   "cell_type": "markdown",
   "metadata": {},
   "source": [
    "# 15-39"
   ]
  },
  {
   "cell_type": "markdown",
   "metadata": {},
   "source": [
    "A ballistic pendulum consists of a 4-kg wooden block originally at rest, theta=0. When a 2g bullet strikes and becomes embedded in it, it is observed that the block swings upward to a maximum angle of theta=6[deg]. Estimate the initial velocity of the bullet.\n",
    "\n",
    "From conservation of momentum we can derive the equation below:"
   ]
  },
  {
   "cell_type": "code",
   "execution_count": 43,
   "metadata": {},
   "outputs": [
    {
     "name": "stdout",
     "output_type": "stream",
     "text": [
      "r⋅(m_b + mₚ)⋅sin(θ)\n",
      "───────────────────\n",
      "       m_b⋅t       \n",
      "\n",
      "\n",
      "        ⎛                  ________⎞\n",
      "        ⎜                 ╱ 5   √5 ⎟\n",
      "        ⎜           √3⋅  ╱  ─ - ── ⎟\n",
      "        ⎜  √5   1      ╲╱   8   8  ⎟\n",
      "2501.25⋅⎜- ── - ─ + ───────────────⎟\n",
      "        ⎝  8    8          2       ⎠\n",
      "────────────────────────────────────\n",
      "                 t                  \n"
     ]
    },
    {
     "data": {
      "image/png": "[encoded data removed]",
      "text/plain": [
       "<Figure size 432x288 with 1 Axes>"
      ]
     },
     "metadata": {
      "needs_background": "light"
     },
     "output_type": "display_data"
    },
    {
     "data": {
      "text/plain": [
       "<sympy.plotting.plot.Plot at 0x11aa6b898>"
      ]
     },
     "execution_count": 43,
     "metadata": {},
     "output_type": "execute_result"
    }
   ],
   "source": [
    "m_b, m_p, vi, r, theta, t = symbols(\"m_b m_p v_i r theta t\", real=True)\n",
    "\n",
    "vi = ((m_b + m_p) / m_b) * (r*sin(theta) / t)\n",
    "\n",
    "pprint(vi)\n",
    "\n",
    "# now we want to start substituting in values again...\n",
    "vi = vi.subs([(m_b, 2E-3), (m_p, 4), (r, 1.25), (theta, 6 * pi / 180)])\n",
    "\n",
    "print(\"\\n\")\n",
    "\n",
    "pprint(vi) # so now we have reduced our terms.\n",
    "\n",
    "plot(vi, (t, 0.5, 2), title=\"Velocity of Bullet\")"
   ]
  },
  {
   "cell_type": "markdown",
   "metadata": {},
   "source": [
    "As we can see from this graph here [1/2 <= t <= 2] [s], the bullet would very reasonably have a large velocity. Very likely the most probably velocity is at the zero-point where time t~0.8seconds and the velocity of the bullet correlates to ~330-340 [m/s]. This seems entirely reasonable when considering how time works. With increasing t we have decreasing incident velocity for the bullet, which does not make too much sense. Additionally, since this distribtion is 1/x, decreasing time causes the velocity to become infinite, which is why I argued earlier that the velocity is ~330 m/s (about the speed of sound)."
   ]
  }
 ],
 "metadata": {
  "kernelspec": {
   "display_name": "Python 3",
   "language": "python",
   "name": "python3"
  },
  "language_info": {
   "codemirror_mode": {
    "name": "ipython",
    "version": 3
   },
   "file_extension": ".py",
   "mimetype": "text/x-python",
   "name": "python",
   "nbconvert_exporter": "python",
   "pygments_lexer": "ipython3",
   "version": "3.7.3"
  }
 },
 "nbformat": 4,
 "nbformat_minor": 2
}
